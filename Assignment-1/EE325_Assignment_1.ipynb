{
  "nbformat": 4,
  "nbformat_minor": 0,
  "metadata": {
    "colab": {
      "name": " EE325_Assignment1_1.ipynb",
      "provenance": [],
      "collapsed_sections": []
    },
    "kernelspec": {
      "name": "python3",
      "display_name": "Python 3"
    },
    "language_info": {
      "name": "python"
    }
  },
  "cells": [
    {
      "cell_type": "markdown",
      "source": [
        "**Problem 1**"
      ],
      "metadata": {
        "id": "C2ajhBAW9Fps"
      }
    },
    {
      "cell_type": "code",
      "source": [
        "import matplotlib.pyplot as plt\n",
        "import numpy as np\n",
        "import math\n",
        "import random\n",
        "\n",
        "import pandas as pd\n",
        "df = pd.read_csv('hw1a.csv')\n",
        "list1 = df['datalist'].tolist()\n",
        "#print(list1)\n",
        "\n",
        "K = int(input(\"\\nPlease enter the desired value of K: \"))\n",
        "\n",
        "# number of iterations\n",
        "n = 50\n",
        "\n",
        "# standard deviation\n",
        "std_deviation = 0\n",
        "\n",
        "  # for case(a)\n",
        "print(\"\\n(a) Ask the first K students that you find as soon as you enter the campus:\")\n",
        "p = 0\n",
        "y_values_1 = []\n",
        " \n",
        "for j in range (0 , n): \n",
        " for i in range (0 , K):\n",
        "  p += list1[i]\n",
        " p = p/K\n",
        " y_values_1.append(p)\n",
        " p = 0\n",
        "\n",
        "#print(str(x_values_1))\n",
        "\n",
        "#p = p/K\n",
        "print(\"The average monthly data consumption is expected to be: \" + str(sum(y_values_1)/n) + \" GB.\")\n",
        "print(\"The standard deviation of the statistical data is: \" + str(std_deviation) +\" GB.\")\n",
        "\n",
        "  # for case(b)\n",
        "print(\"\\n(b) Choose an arbitrary point in the campus and ask K students from there:\") \n",
        "\n",
        "q = 0\n",
        "index_list = []\n",
        "list2 = []\n",
        "y_values_2 = []\n",
        "\n",
        "for i in range (0 , n):\n",
        " index_list.append(i)\n",
        "\n",
        "for i in range(0 , n):\n",
        " random_index = random.choice(index_list)\n",
        " if(random_index + K <= len(index_list)): \n",
        "  list2 = list1[random_index : K + random_index - 1 : 1]\n",
        "  q = sum(list2)\n",
        " else:\n",
        "  list2 = list1[random_index : n-1 : 1]\n",
        "  for j in range (0 , K - (n-random_index)):\n",
        "   list2.append(list1[j])\n",
        "  q = sum(list2)\n",
        " q = q/K\n",
        " y_values_2.append(q)\n",
        " q = 0\n",
        "\n",
        "mean_2 = sum(y_values_2)/n\n",
        "for i in range(0 , n):\n",
        "  std_deviation += y_values_2[i]**2 + mean_2**2 - 2 * mean_2 * y_values_2[i]\n",
        "\n",
        "print(\"The average monthly data consumption is expected to be: \" + str(sum(y_values_2)/n) + \" GB.\")\n",
        "print(\"The standard deviation of the statistical data is: \" + str(math.sqrt(std_deviation/K)) +\" GB.\")\n",
        "\n",
        "std_deviation = 0\n",
        "\n",
        "  # for case(c)\n",
        "print(\"\\n(c) Randomly select K from the 10,000 people in the colony, i.e., let's say we put all the 10,000 names in a pot, mix the pot thoroughly and pick a name. Repeat K times:\")\n",
        "r = 0\n",
        "empty_list_3 = [K]\n",
        "y_values_3 = []\n",
        "\n",
        "for j in range (0 , n):\n",
        " for i in range (0 , n):\n",
        "  empty_list_3 = random.choices(list1 , k = K)\n",
        "  r += sum(empty_list_3)\n",
        " r = r/(K * n)\n",
        " y_values_3.append(r)\n",
        " r = 0\n",
        "\n",
        "mean_3 = sum(y_values_3)/n\n",
        "for i in range(0 , n):\n",
        "  std_deviation += y_values_3[i]**2 + mean_3**2 - 2 * mean_3 * y_values_3[i]\n",
        "\n",
        "print(\"The average monthly data consumption is expected to be: \" + str(sum(y_values_3)/n) + \" GB.\")\n",
        "print(\"The standard deviation of the statistical data is: \" + str(math.sqrt(std_deviation/K)) +\" GB.\")\n",
        "\n",
        "x_values = []\n",
        "for i in range (0 , n):\n",
        "  x_values.append(i+1)\n",
        "\n",
        "plt.axis([0, 50, 20, 34])\n",
        "\n",
        "plt.scatter(x_values , y_values_1 , s=20)\n",
        "plt.scatter(x_values , y_values_2 , s=20)\n",
        "plt.scatter(x_values , y_values_3 , s=20)\n",
        "\n",
        "plt.xlabel('Serial number of observation')\n",
        "plt.ylabel('Average data consumed per month (in GB)')\n",
        "\n",
        "print(\"\\nN.B. : The blue, orange and green curves correspond to cases (a), (b) and (c), respectively.\\n\")"
      ],
      "metadata": {
        "id": "EuS52DCL9GDT",
        "colab": {
          "base_uri": "https://localhost:8080/",
          "height": 578
        },
        "outputId": "f6fd2cd9-6d6c-4589-c812-1c66b6116f41"
      },
      "execution_count": 58,
      "outputs": [
        {
          "output_type": "stream",
          "name": "stdout",
          "text": [
            "\n",
            "Please enter the desired value of K: 50\n",
            "\n",
            "(a) Ask the first K students that you find as soon as you enter the campus:\n",
            "The average monthly data consumption is expected to be: 32.793037780776174 GB.\n",
            "The standard deviation of the statistical data is: 0 GB.\n",
            "\n",
            "(b) Choose an arbitrary point in the campus and ask K students from there:\n",
            "The average monthly data consumption is expected to be: 32.13294261927314 GB.\n",
            "The standard deviation of the statistical data is: 0.0 GB.\n",
            "\n",
            "(c) Randomly select K from the 10,000 people in the colony, i.e., let's say we put all the 10,000 names in a pot, mix the pot thoroughly and pick a name. Repeat K times:\n",
            "The average monthly data consumption is expected to be: 30.031890358037035 GB.\n",
            "The standard deviation of the statistical data is: 0.10816692339742412 GB.\n",
            "\n",
            "N.B. : The blue, orange and green curves correspond to cases (a), (b) and (c), respectively.\n",
            "\n"
          ]
        },
        {
          "output_type": "display_data",
          "data": {
            "text/plain": [
              "<Figure size 432x288 with 1 Axes>"
            ],
            "image/png": "[encoded data removed]"
          },
          "metadata": {
            "needs_background": "light"
          }
        }
      ]
    },
    {
      "cell_type": "code",
      "source": [
        "import matplotlib.pyplot as plt\n",
        "import numpy as np\n",
        "import math\n",
        "import random\n",
        "\n",
        "import pandas as pd\n",
        "df = pd.read_csv('hw1a.csv')\n",
        "list1 = df['datalist'].tolist()\n",
        "#print(list1)\n",
        "\n",
        "K = int(input(\"\\nPlease enter the desired value of K: \"))\n",
        "\n",
        "# number of iterations\n",
        "n = 50\n",
        "\n",
        "# standard deviation\n",
        "std_deviation = 0\n",
        "\n",
        "  # for case(a)\n",
        "print(\"\\n(a) Ask the first K students that you find as soon as you enter the campus:\")\n",
        "p = 0\n",
        "y_values_1 = []\n",
        " \n",
        "for j in range (0 , n): \n",
        " for i in range (0 , K):\n",
        "  p += list1[i]\n",
        " p = p/K\n",
        " y_values_1.append(p)\n",
        " p = 0\n",
        "\n",
        "#print(str(x_values_1))\n",
        "\n",
        "#p = p/K\n",
        "print(\"The average monthly data consumption is expected to be: \" + str(sum(y_values_1)/n) + \" GB.\")\n",
        "print(\"The standard deviation of the statistical data is: \" + str(std_deviation) +\" GB.\")\n",
        "\n",
        "  # for case(b)\n",
        "print(\"\\n(b) Choose an arbitrary point in the campus and ask K students from there:\") \n",
        "\n",
        "q = 0\n",
        "index_list = []\n",
        "list2 = []\n",
        "y_values_2 = []\n",
        "\n",
        "for i in range (0 , n):\n",
        " index_list.append(i)\n",
        "\n",
        "for i in range(0 , n):\n",
        " random_index = random.choice(index_list)\n",
        " if(random_index + K <= len(index_list)): \n",
        "  list2 = list1[random_index : K + random_index - 1 : 1]\n",
        "  q = sum(list2)\n",
        " else:\n",
        "  list2 = list1[random_index : n-1 : 1]\n",
        "  for j in range (0 , K - (n-random_index)):\n",
        "   list2.append(list1[j])\n",
        "  q = sum(list2)\n",
        " q = q/K\n",
        " y_values_2.append(q)\n",
        " q = 0\n",
        "\n",
        "mean_2 = sum(y_values_2)/n\n",
        "for i in range(0 , n):\n",
        "  std_deviation += y_values_2[i]**2 + mean_2**2 - 2 * mean_2 * y_values_2[i]\n",
        "\n",
        "print(\"The average monthly data consumption is expected to be: \" + str(sum(y_values_2)/n) + \" GB.\")\n",
        "print(\"The standard deviation of the statistical data is: \" + str(math.sqrt(std_deviation/K)) +\" GB.\")\n",
        "\n",
        "std_deviation = 0\n",
        "\n",
        "  # for case(c)\n",
        "print(\"\\n(c) Randomly select K from the 10,000 people in the colony, i.e., let's say we put all the 10,000 names in a pot, mix the pot thoroughly and pick a name. Repeat K times:\")\n",
        "r = 0\n",
        "empty_list_3 = [K]\n",
        "y_values_3 = []\n",
        "\n",
        "for j in range (0 , n):\n",
        " for i in range (0 , n):\n",
        "  empty_list_3 = random.choices(list1 , k = K)\n",
        "  r += sum(empty_list_3)\n",
        " r = r/(K * n)\n",
        " y_values_3.append(r)\n",
        " r = 0\n",
        "\n",
        "mean_3 = sum(y_values_3)/n\n",
        "for i in range(0 , n):\n",
        "  std_deviation += y_values_3[i]**2 + mean_3**2 - 2 * mean_3 * y_values_3[i]\n",
        "\n",
        "print(\"The average monthly data consumption is expected to be: \" + str(sum(y_values_3)/n) + \" GB.\")\n",
        "print(\"The standard deviation of the statistical data is: \" + str(math.sqrt(std_deviation/K)) +\" GB.\")\n",
        "\n",
        "x_values = []\n",
        "for i in range (0 , n):\n",
        "  x_values.append(i+1)\n",
        "\n",
        "plt.axis([0, 50, 20, 34])\n",
        "\n",
        "plt.scatter(x_values , y_values_1 , s=20)\n",
        "plt.scatter(x_values , y_values_2 , s=20)\n",
        "plt.scatter(x_values , y_values_3 , s=20)\n",
        "\n",
        "plt.xlabel('Serial number of observation')\n",
        "plt.ylabel('Average data consumed per month (in GB)')\n",
        "\n",
        "print(\"\\nN.B. : The blue, orange and green curves correspond to cases (a), (b) and (c), respectively.\\n\")"
      ],
      "metadata": {
        "colab": {
          "base_uri": "https://localhost:8080/",
          "height": 578
        },
        "id": "SbYxPNoGDBUA",
        "outputId": "85d54a68-42d3-4ccb-dd0d-3641f2df835b"
      },
      "execution_count": 59,
      "outputs": [
        {
          "output_type": "stream",
          "name": "stdout",
          "text": [
            "\n",
            "Please enter the desired value of K: 10\n",
            "\n",
            "(a) Ask the first K students that you find as soon as you enter the campus:\n",
            "The average monthly data consumption is expected to be: 33.22836173233857 GB.\n",
            "The standard deviation of the statistical data is: 0 GB.\n",
            "\n",
            "(b) Choose an arbitrary point in the campus and ask K students from there:\n",
            "The average monthly data consumption is expected to be: 29.46609870883843 GB.\n",
            "The standard deviation of the statistical data is: 0.8280417556088061 GB.\n",
            "\n",
            "(c) Randomly select K from the 10,000 people in the colony, i.e., let's say we put all the 10,000 names in a pot, mix the pot thoroughly and pick a name. Repeat K times:\n",
            "The average monthly data consumption is expected to be: 30.053783431643023 GB.\n",
            "The standard deviation of the statistical data is: 0.4317693615206274 GB.\n",
            "\n",
            "N.B. : The blue, orange and green curves correspond to cases (a), (b) and (c), respectively.\n",
            "\n"
          ]
        },
        {
          "output_type": "display_data",
          "data": {
            "text/plain": [
              "<Figure size 432x288 with 1 Axes>"
            ],
            "image/png": "[encoded data removed]"
          },
          "metadata": {
            "needs_background": "light"
          }
        }
      ]
    },
    {
      "cell_type": "code",
      "source": [
        "import matplotlib.pyplot as plt\n",
        "import numpy as np\n",
        "import math\n",
        "import random\n",
        "\n",
        "import pandas as pd\n",
        "df = pd.read_csv('hw1a.csv')\n",
        "list1 = df['datalist'].tolist()\n",
        "#print(list1)\n",
        "\n",
        "K = int(input(\"\\nPlease enter the desired value of K: \"))\n",
        "\n",
        "# number of iterations\n",
        "n = 50\n",
        "\n",
        "# standard deviation\n",
        "std_deviation = 0\n",
        "\n",
        "  # for case(a)\n",
        "print(\"\\n(a) Ask the first K students that you find as soon as you enter the campus:\")\n",
        "p = 0\n",
        "y_values_1 = []\n",
        " \n",
        "for j in range (0 , n): \n",
        " for i in range (0 , K):\n",
        "  p += list1[i]\n",
        " p = p/K\n",
        " y_values_1.append(p)\n",
        " p = 0\n",
        "\n",
        "#print(str(x_values_1))\n",
        "\n",
        "#p = p/K\n",
        "print(\"The average monthly data consumption is expected to be: \" + str(sum(y_values_1)/n) + \" GB.\")\n",
        "print(\"The standard deviation of the statistical data is: \" + str(std_deviation) +\" GB.\")\n",
        "\n",
        "  # for case(b)\n",
        "print(\"\\n(b) Choose an arbitrary point in the campus and ask K students from there:\") \n",
        "\n",
        "q = 0\n",
        "index_list = []\n",
        "list2 = []\n",
        "y_values_2 = []\n",
        "\n",
        "for i in range (0 , n):\n",
        " index_list.append(i)\n",
        "\n",
        "for i in range(0 , n):\n",
        " random_index = random.choice(index_list)\n",
        " if(random_index + K <= len(index_list)): \n",
        "  list2 = list1[random_index : K + random_index - 1 : 1]\n",
        "  q = sum(list2)\n",
        " else:\n",
        "  list2 = list1[random_index : n-1 : 1]\n",
        "  for j in range (0 , K - (n-random_index)):\n",
        "   list2.append(list1[j])\n",
        "  q = sum(list2)\n",
        " q = q/K\n",
        " y_values_2.append(q)\n",
        " q = 0\n",
        "\n",
        "mean_2 = sum(y_values_2)/n\n",
        "for i in range(0 , n):\n",
        "  std_deviation += y_values_2[i]**2 + mean_2**2 - 2 * mean_2 * y_values_2[i]\n",
        "\n",
        "print(\"The average monthly data consumption is expected to be: \" + str(sum(y_values_2)/n) + \" GB.\")\n",
        "print(\"The standard deviation of the statistical data is: \" + str(math.sqrt(std_deviation/K)) +\" GB.\")\n",
        "\n",
        "std_deviation = 0\n",
        "\n",
        "  # for case(c)\n",
        "print(\"\\n(c) Randomly select K from the 10,000 people in the colony, i.e., let's say we put all the 10,000 names in a pot, mix the pot thoroughly and pick a name. Repeat K times:\")\n",
        "r = 0\n",
        "empty_list_3 = [K]\n",
        "y_values_3 = []\n",
        "\n",
        "for j in range (0 , n):\n",
        " for i in range (0 , n):\n",
        "  empty_list_3 = random.choices(list1 , k = K)\n",
        "  r += sum(empty_list_3)\n",
        " r = r/(K * n)\n",
        " y_values_3.append(r)\n",
        " r = 0\n",
        "\n",
        "mean_3 = sum(y_values_3)/n\n",
        "for i in range(0 , n):\n",
        "  std_deviation += y_values_3[i]**2 + mean_3**2 - 2 * mean_3 * y_values_3[i]\n",
        "\n",
        "print(\"The average monthly data consumption is expected to be: \" + str(sum(y_values_3)/n) + \" GB.\")\n",
        "print(\"The standard deviation of the statistical data is: \" + str(math.sqrt(std_deviation/K)) +\" GB.\")\n",
        "\n",
        "x_values = []\n",
        "for i in range (0 , n):\n",
        "  x_values.append(i+1)\n",
        "\n",
        "plt.axis([0, 50, 20, 34])\n",
        "\n",
        "plt.scatter(x_values , y_values_1 , s=20)\n",
        "plt.scatter(x_values , y_values_2 , s=20)\n",
        "plt.scatter(x_values , y_values_3 , s=20)\n",
        "\n",
        "plt.xlabel('Serial number of observation')\n",
        "plt.ylabel('Average data consumed per month (in GB)')\n",
        "\n",
        "print(\"\\nN.B. : The blue, orange and green curves correspond to cases (a), (b) and (c), respectively.\\n\")"
      ],
      "metadata": {
        "colab": {
          "base_uri": "https://localhost:8080/",
          "height": 578
        },
        "id": "-QtP7vwUDFM_",
        "outputId": "ec7e9953-9861-4a87-d626-661dbb0e0c11"
      },
      "execution_count": 60,
      "outputs": [
        {
          "output_type": "stream",
          "name": "stdout",
          "text": [
            "\n",
            "Please enter the desired value of K: 100\n",
            "\n",
            "(a) Ask the first K students that you find as soon as you enter the campus:\n",
            "The average monthly data consumption is expected to be: 28.458208625606552 GB.\n",
            "The standard deviation of the statistical data is: 0 GB.\n",
            "\n",
            "(b) Choose an arbitrary point in the campus and ask K students from there:\n",
            "The average monthly data consumption is expected to be: 30.950632011417916 GB.\n",
            "The standard deviation of the statistical data is: 0.9858944789190984 GB.\n",
            "\n",
            "(c) Randomly select K from the 10,000 people in the colony, i.e., let's say we put all the 10,000 names in a pot, mix the pot thoroughly and pick a name. Repeat K times:\n",
            "The average monthly data consumption is expected to be: 30.039164652956813 GB.\n",
            "The standard deviation of the statistical data is: 0.044577461772946324 GB.\n",
            "\n",
            "N.B. : The blue, orange and green curves correspond to cases (a), (b) and (c), respectively.\n",
            "\n"
          ]
        },
        {
          "output_type": "display_data",
          "data": {
            "text/plain": [
              "<Figure size 432x288 with 1 Axes>"
            ],
            "image/png": "[encoded data removed]"
          },
          "metadata": {
            "needs_background": "light"
          }
        }
      ]
    },
    {
      "cell_type": "code",
      "source": [
        "import matplotlib.pyplot as plt\n",
        "import numpy as np\n",
        "import math\n",
        "import random\n",
        "\n",
        "import pandas as pd\n",
        "df = pd.read_csv('hw1a.csv')\n",
        "list1 = df['datalist'].tolist()\n",
        "#print(list1)\n",
        "\n",
        "K = int(input(\"\\nPlease enter the desired value of K: \"))\n",
        "\n",
        "# number of iterations\n",
        "n = 50\n",
        "\n",
        "# standard deviation\n",
        "std_deviation = 0\n",
        "\n",
        "  # for case(a)\n",
        "print(\"\\n(a) Ask the first K students that you find as soon as you enter the campus:\")\n",
        "p = 0\n",
        "y_values_1 = []\n",
        " \n",
        "for j in range (0 , n): \n",
        " for i in range (0 , K):\n",
        "  p += list1[i]\n",
        " p = p/K\n",
        " y_values_1.append(p)\n",
        " p = 0\n",
        "\n",
        "#print(str(x_values_1))\n",
        "\n",
        "#p = p/K\n",
        "print(\"The average monthly data consumption is expected to be: \" + str(sum(y_values_1)/n) + \" GB.\")\n",
        "print(\"The standard deviation of the statistical data is: \" + str(std_deviation) +\" GB.\")\n",
        "\n",
        "  # for case(b)\n",
        "print(\"\\n(b) Choose an arbitrary point in the campus and ask K students from there:\") \n",
        "\n",
        "q = 0\n",
        "index_list = []\n",
        "list2 = []\n",
        "y_values_2 = []\n",
        "\n",
        "for i in range (0 , n):\n",
        " index_list.append(i)\n",
        "\n",
        "for i in range(0 , n):\n",
        " random_index = random.choice(index_list)\n",
        " if(random_index + K <= len(index_list)): \n",
        "  list2 = list1[random_index : K + random_index - 1 : 1]\n",
        "  q = sum(list2)\n",
        " else:\n",
        "  list2 = list1[random_index : n-1 : 1]\n",
        "  for j in range (0 , K - (n-random_index)):\n",
        "   list2.append(list1[j])\n",
        "  q = sum(list2)\n",
        " q = q/K\n",
        " y_values_2.append(q)\n",
        " q = 0\n",
        "\n",
        "mean_2 = sum(y_values_2)/n\n",
        "for i in range(0 , n):\n",
        "  std_deviation += y_values_2[i]**2 + mean_2**2 - 2 * mean_2 * y_values_2[i]\n",
        "\n",
        "print(\"The average monthly data consumption is expected to be: \" + str(sum(y_values_2)/n) + \" GB.\")\n",
        "print(\"The standard deviation of the statistical data is: \" + str(math.sqrt(std_deviation/K)) +\" GB.\")\n",
        "\n",
        "std_deviation = 0\n",
        "\n",
        "  # for case(c)\n",
        "print(\"\\n(c) Randomly select K from the 10,000 people in the colony, i.e., let's say we put all the 10,000 names in a pot, mix the pot thoroughly and pick a name. Repeat K times:\")\n",
        "r = 0\n",
        "empty_list_3 = [K]\n",
        "y_values_3 = []\n",
        "\n",
        "for j in range (0 , n):\n",
        " for i in range (0 , n):\n",
        "  empty_list_3 = random.choices(list1 , k = K)\n",
        "  r += sum(empty_list_3)\n",
        " r = r/(K * n)\n",
        " y_values_3.append(r)\n",
        " r = 0\n",
        "\n",
        "mean_3 = sum(y_values_3)/n\n",
        "for i in range(0 , n):\n",
        "  std_deviation += y_values_3[i]**2 + mean_3**2 - 2 * mean_3 * y_values_3[i]\n",
        "\n",
        "print(\"The average monthly data consumption is expected to be: \" + str(sum(y_values_3)/n) + \" GB.\")\n",
        "print(\"The standard deviation of the statistical data is: \" + str(math.sqrt(std_deviation/K)) +\" GB.\")\n",
        "\n",
        "x_values = []\n",
        "for i in range (0 , n):\n",
        "  x_values.append(i+1)\n",
        "\n",
        "plt.axis([0, 50, 20, 34])\n",
        "\n",
        "plt.scatter(x_values , y_values_1 , s=20)\n",
        "plt.scatter(x_values , y_values_2 , s=20)\n",
        "plt.scatter(x_values , y_values_3 , s=20)\n",
        "\n",
        "plt.xlabel('Serial number of observation')\n",
        "plt.ylabel('Average data consumed per month (in GB)')\n",
        "\n",
        "print(\"\\nN.B. : The blue, orange and green curves correspond to cases (a), (b) and (c), respectively.\\n\")"
      ],
      "metadata": {
        "colab": {
          "base_uri": "https://localhost:8080/",
          "height": 578
        },
        "id": "_l7gPK3MDK6B",
        "outputId": "ca25441c-bd05-4636-a9d2-590d2e7206dd"
      },
      "execution_count": 61,
      "outputs": [
        {
          "output_type": "stream",
          "name": "stdout",
          "text": [
            "\n",
            "Please enter the desired value of K: 200\n",
            "\n",
            "(a) Ask the first K students that you find as soon as you enter the campus:\n",
            "The average monthly data consumption is expected to be: 28.260580340367138 GB.\n",
            "The standard deviation of the statistical data is: 0 GB.\n",
            "\n",
            "(b) Choose an arbitrary point in the campus and ask K students from there:\n",
            "The average monthly data consumption is expected to be: 28.855823733612507 GB.\n",
            "The standard deviation of the statistical data is: 0.10644930012880942 GB.\n",
            "\n",
            "(c) Randomly select K from the 10,000 people in the colony, i.e., let's say we put all the 10,000 names in a pot, mix the pot thoroughly and pick a name. Repeat K times:\n",
            "The average monthly data consumption is expected to be: 30.04437509602186 GB.\n",
            "The standard deviation of the statistical data is: 0.02302855057752523 GB.\n",
            "\n",
            "N.B. : The blue, orange and green curves correspond to cases (a), (b) and (c), respectively.\n",
            "\n"
          ]
        },
        {
          "output_type": "display_data",
          "data": {
            "text/plain": [
              "<Figure size 432x288 with 1 Axes>"
            ],
            "image/png": "[encoded data removed]"
          },
          "metadata": {
            "needs_background": "light"
          }
        }
      ]
    },
    {
      "cell_type": "markdown",
      "source": [
        "**1(b)(i)** : \n",
        "My guess for the actual average data consumption is that it would be in the range of 29-32 GB/month. As regards the standard deviation, for K = 50 it should be very low while for lower values of K (e.g. 20, 30, 40,etc.) it will be significantly higher. An interesting, yet logically explainanble observation from the graphs is that as K increases, the values tend to get closer to a particular average value and the standard deviation also decreases. <br>\n",
        "\n",
        "The actual value of the average data (for K = 50) is nearly 30.043 GB/month. The actual value of the standard deviation (for K = 50) is 0.108 GB, which is quite negligible as compared to the average data consumption. \n",
        "\n",
        "**N.B.** : The average and standard deviation values have been presented in the output of the code for all cases. Please look into the pictures of the output to see them.\n",
        "\n",
        "**1(b)(ii)(A)** : The third scheme should be preferably used in practice to determine average data consumption. In the first scheme, the data available is not reliable since the students near the entrance would not ideally represent the population distribution of various student groups inside the campus. In the second scheme, the data available is too localized; since it is collected only around a single residential area. The data obtained from this scheme might very well not be applicable throughout the campus since some hostels might consume more or less data depending upon their requirements. So, overall, the third scheme is the best since its sample set is compltely randomized: it would take into consideration all possible student groups when we run multiple iterations of it. \n",
        "\n",
        "**1(b)(ii)(B)** : K should be chosen such that it is economical for measurement purposes as well as it represents a sufficiently large enough sample for determining the staistics of the situation correctly. In this case, I think that K = 50 is a good enough value, both economically and statistically. <br>\n",
        "As you can observe from the graph, K = 50 is quite a unique case in the sense that the values deviate very little from the average in this case. The statistical data for the third scheme is very nearly constant, unlike other cases where it is in a highly scattered format. I believe that this graphical observation is sufficient enough to justify that the average that we obtain from this case is correct to a high degree of accuracy."
      ],
      "metadata": {
        "id": "My0cR9XM7dmc"
      }
    },
    {
      "cell_type": "markdown",
      "source": [
        "**Problem 2**"
      ],
      "metadata": {
        "id": "lgEaYXQpYI6K"
      }
    },
    {
      "cell_type": "markdown",
      "source": [
        "**2(a)**"
      ],
      "metadata": {
        "id": "eWyI5BLksyWZ"
      }
    },
    {
      "cell_type": "code",
      "source": [
        "import matplotlib.pyplot as plt\n",
        "import numpy as np\n",
        "import math\n",
        "\n",
        "b1=open('/content/hw1b1.txt','r')\n",
        "b1_list = b1.readlines()\n",
        "b1_list = list(map(int,b1_list))\n",
        "\n",
        "# ASSUMPTION: Heads favoured\n",
        "\n",
        "counts = [0,0]\n",
        "probs = []\n",
        "\n",
        "doubt_index = []\n",
        "surety_index = []\n",
        "\n",
        "for i in b1_list:\n",
        "    if i == 0:\n",
        "        counts[0] += 1\n",
        "    if i == 1:\n",
        "        counts[1] += 1\n",
        "\n",
        "    probs.append(counts[1]/(counts[0]+counts[1]))    \n",
        "\n",
        "doubt = False\n",
        "surety_against = False\n",
        "\n",
        "for i in range(0,100):\n",
        "\n",
        "    if probs[i] <= 0.56 and probs[i] > 0.40:\n",
        "        if doubt == False:\n",
        "            doubt = True\n",
        "            doubt_index.append(i+1)\n",
        "\n",
        "    if probs[i] <= 0.40:\n",
        "        surety_against = True\n",
        "        surety_index.append(i+1)\n",
        "\n",
        "if not doubt_index and not surety_index:\n",
        " print(\"\\nHe is convinced that his choice is correct when the first coin is used for the experiment.\")\n",
        "else:\n",
        " print(\"\\nThe points at which he suspects that he might be wrong are: \" + str(doubt_index))\n",
        " print(\"\\nThe points at which he is convinced that he might be wrong are: \" + str(surety_index))  \n",
        "\n",
        "print(\"\\nThe probability of getting a 'Head' from the first coin is: \" + str(probs[-1]) + \"\\n\")\n",
        "\n",
        "x_values = range(0 , 100)\n",
        "y_values = probs\n",
        "\n",
        "plt.scatter(x_values , y_values , s=20)\n",
        "\n",
        "plt.xlabel('Tosses')\n",
        "plt.ylabel('Experimental probability (of Head)')\n"
      ],
      "metadata": {
        "id": "eaDn_IrlYNO7",
        "colab": {
          "base_uri": "https://localhost:8080/",
          "height": 383
        },
        "outputId": "98251c5d-24e9-49a5-845d-1028223264c8"
      },
      "execution_count": 34,
      "outputs": [
        {
          "output_type": "stream",
          "name": "stdout",
          "text": [
            "\n",
            "He is convinced that his choice is correct when the first coin is used for the experiment.\n",
            "\n",
            "The probability of getting a 'Head' from the first coin is: 0.64\n",
            "\n"
          ]
        },
        {
          "output_type": "execute_result",
          "data": {
            "text/plain": [
              "Text(0, 0.5, 'Experimental probability (of Head)')"
            ]
          },
          "metadata": {},
          "execution_count": 34
        },
        {
          "output_type": "display_data",
          "data": {
            "text/plain": [
              "<Figure size 432x288 with 1 Axes>"
            ],
            "image/png": "[encoded data removed]"
          },
          "metadata": {
            "needs_background": "light"
          }
        }
      ]
    },
    {
      "cell_type": "markdown",
      "source": [
        "**2(c)_hw1b2**"
      ],
      "metadata": {
        "id": "FReijK74s6V4"
      }
    },
    {
      "cell_type": "code",
      "source": [
        "b1=open('/content/hw1b2.txt','r')\n",
        "b1_list = b1.readlines()\n",
        "b1_list = list(map(int,b1_list))\n",
        "\n",
        "# ASSUMPTION: Heads favoured\n",
        "\n",
        "counts = [0,0]\n",
        "probs = []\n",
        "\n",
        "doubt_index = []\n",
        "surety_index = []\n",
        "\n",
        "for i in b1_list:\n",
        "    if i == 0:\n",
        "        counts[0] += 1\n",
        "    if i == 1:\n",
        "        counts[1] += 1\n",
        "    probs.append(counts[1]/(counts[0]+counts[1]))\n",
        "\n",
        "doubt = False\n",
        "surety_against = False\n",
        "\n",
        "for i in range(0,100):\n",
        "\n",
        "    if probs[i] <= 0.56 and probs[i] > 0.40:\n",
        "        if doubt == False:\n",
        "            doubt = True\n",
        "            doubt_index.append(i+1)\n",
        "\n",
        "    if probs[i] <= 0.40:\n",
        "        surety_against = True \n",
        "        surety_index.append(i+1) \n",
        "\n",
        "if not doubt_index and not surety_index:\n",
        " print(\"\\nHe is convinced that his choice is correct when the second coin is used for the experiment.\")\n",
        "else:\n",
        " print(\"\\nThe points at which he suspects of being wrong are: \" + str(doubt_index))\n",
        " print(\"\\nThe points at which he is convinced that he might be wrong are: \" + str(surety_index))\n",
        "\n",
        "print(\"\\nThe probability of getting a 'Head' from the second coin is: \" + str(probs[-1]) + \"\\n\")\n",
        "\n",
        "x_values = range(0 , 100)\n",
        "y_values = probs\n",
        "\n",
        "plt.scatter(x_values , y_values , s=20)\n",
        "\n",
        "plt.xlabel('Tosses')\n",
        "plt.ylabel('Experimental probability (of Head)')"
      ],
      "metadata": {
        "id": "h8_hJHrxPOah",
        "colab": {
          "base_uri": "https://localhost:8080/",
          "height": 438
        },
        "outputId": "2ce5f557-1424-4ba3-d6d6-76264ace519e"
      },
      "execution_count": 35,
      "outputs": [
        {
          "output_type": "stream",
          "name": "stdout",
          "text": [
            "\n",
            "The points at which he suspects of being wrong are: [2]\n",
            "\n",
            "The points at which he is convinced that he might be wrong are: [1, 3, 5, 6, 7, 8, 9, 10, 11, 12, 13, 14, 15, 16, 17, 18, 19, 20, 21, 22, 23, 24, 25, 26, 27, 28, 29, 30, 31, 32, 33, 34, 35, 36, 37, 38, 39, 40, 41, 42, 43, 44, 45, 46, 47, 48, 49, 50, 51, 52, 53, 54, 55, 56, 57, 58, 59, 60, 61, 62, 63, 64, 65, 66, 67, 68, 69, 70, 71, 72, 73, 74, 75, 76, 77, 78]\n",
            "\n",
            "The probability of getting a 'Head' from the second coin is: 0.45\n",
            "\n"
          ]
        },
        {
          "output_type": "execute_result",
          "data": {
            "text/plain": [
              "Text(0, 0.5, 'Experimental probability (of Head)')"
            ]
          },
          "metadata": {},
          "execution_count": 35
        },
        {
          "output_type": "display_data",
          "data": {
            "text/plain": [
              "<Figure size 432x288 with 1 Axes>"
            ],
            "image/png": "[encoded data removed]"
          },
          "metadata": {
            "needs_background": "light"
          }
        }
      ]
    },
    {
      "cell_type": "markdown",
      "source": [
        "**2(c)_hw1b3**"
      ],
      "metadata": {
        "id": "r85Ty0PZtCzY"
      }
    },
    {
      "cell_type": "code",
      "source": [
        "b1=open('/content/hw1b3.txt','r')\n",
        "b1_list = b1.readlines()\n",
        "b1_list = list(map(int,b1_list))\n",
        "\n",
        "# ASSUMPTION: Heads favoured\n",
        "\n",
        "counts = [0,0]\n",
        "probs = []\n",
        "\n",
        "doubt_index = []\n",
        "surety_index = []\n",
        "\n",
        "for i in b1_list:\n",
        "    if i == 0:\n",
        "        counts[0] += 1\n",
        "    if i == 1:\n",
        "        counts[1] += 1\n",
        "    probs.append(counts[1]/(counts[0]+counts[1]))\n",
        "\n",
        "doubt = False\n",
        "surety_against = False\n",
        "\n",
        "for i in range(0,100):\n",
        "\n",
        "    if probs[i] <= 0.56 and probs[i] > 0.40:\n",
        "        if doubt == False:\n",
        "            doubt = True\n",
        "            doubt_index.append(i+1)\n",
        "\n",
        "    if probs[i] <= 0.40:\n",
        "        surety_against = True\n",
        "        surety_index.append(i+1)\n",
        "\n",
        "if not doubt_index and not surety_index:\n",
        " print(\"\\nHe is convinced that his choice is correct when the third coin is used for the experiment.\")\n",
        "else:\n",
        " print(\"\\nThe points at which he suspects of being wrong are: \" + str(doubt_index))\n",
        " print(\"\\nThe points at which he is convinced that he might be wrong are: \" + str(surety_index)) \n",
        "\n",
        "print(\"\\nThe probability of getting a 'Head' from the third coin is: \" + str(probs[-1]) + \"\\n\")\n",
        "\n",
        "x_values = range(0 , 100)\n",
        "y_values = probs\n",
        "\n",
        "plt.scatter(x_values , y_values , s=20)\n",
        "\n",
        "plt.xlabel('Tosses')\n",
        "plt.ylabel('Experimental probability (of Head)')"
      ],
      "metadata": {
        "id": "7pCENC-pPX5A",
        "colab": {
          "base_uri": "https://localhost:8080/",
          "height": 418
        },
        "outputId": "d2e702a2-2ec0-46a9-afea-6b1241efa516"
      },
      "execution_count": 36,
      "outputs": [
        {
          "output_type": "stream",
          "name": "stdout",
          "text": [
            "\n",
            "The points at which he suspects of being wrong are: [11]\n",
            "\n",
            "The points at which he is convinced that he might be wrong are: []\n",
            "\n",
            "The probability of getting a 'Head' from the third coin is: 0.63\n",
            "\n"
          ]
        },
        {
          "output_type": "execute_result",
          "data": {
            "text/plain": [
              "Text(0, 0.5, 'Experimental probability (of Head)')"
            ]
          },
          "metadata": {},
          "execution_count": 36
        },
        {
          "output_type": "display_data",
          "data": {
            "text/plain": [
              "<Figure size 432x288 with 1 Axes>"
            ],
            "image/png": "[encoded data removed]"
          },
          "metadata": {
            "needs_background": "light"
          }
        }
      ]
    },
    {
      "cell_type": "markdown",
      "source": [
        "**2(c)_hw1b4**"
      ],
      "metadata": {
        "id": "tqGyDWDOtPFI"
      }
    },
    {
      "cell_type": "code",
      "source": [
        "b1=open('/content/hw1b4.txt','r')\n",
        "b1_list = b1.readlines()\n",
        "b1_list = list(map(int,b1_list))\n",
        "\n",
        "# ASSUMPTION: Heads favoured\n",
        "\n",
        "counts = [0,0]\n",
        "probs = []\n",
        "\n",
        "doubt_index = []\n",
        "surety_index = []\n",
        "\n",
        "for i in b1_list:\n",
        "    if i == 0:\n",
        "        counts[0] += 1\n",
        "    if i == 1:\n",
        "        counts[1] += 1\n",
        "    probs.append(counts[1]/(counts[0]+counts[1]))\n",
        "\n",
        "doubt = False\n",
        "surety_against = False\n",
        "\n",
        "for i in range(0,100):\n",
        "\n",
        "    if probs[i] <= 0.56 and probs[i] > 0.40:\n",
        "        if doubt == False:\n",
        "            doubt = True\n",
        "            doubt_index.append(i+1)\n",
        "\n",
        "    if probs[i] <= 0.40:\n",
        "        surety_against = True\n",
        "        surety_index.append(i+1)\n",
        "\n",
        "if not doubt_index and not surety_index:\n",
        " print(\"\\nHe is convinced that his choice is correct when the first coin is used for the experiment.\")\n",
        "else:\n",
        " print(\"\\nThe points at which he suspects of being wrong are: \" + str(doubt_index))\n",
        " print(\"\\nThe points at which he is convinced that he might be wrong are: \" + str(surety_index))\n",
        "\n",
        "print(\"\\nThe probability of getting a 'Head' from the fourth coin is: \" + str(probs[-1]) + \"\\n\")      \n",
        "\n",
        "x_values = range(0 , 100)\n",
        "y_values = probs\n",
        "\n",
        "plt.scatter(x_values , y_values , s=20)\n",
        "\n",
        "plt.xlabel('Tosses')\n",
        "plt.ylabel('Experimental probability (of Head)')"
      ],
      "metadata": {
        "id": "91-CdUYcPdXp",
        "colab": {
          "base_uri": "https://localhost:8080/",
          "height": 438
        },
        "outputId": "be4da98c-ccba-4d47-d8c8-5a5b69be1788"
      },
      "execution_count": 37,
      "outputs": [
        {
          "output_type": "stream",
          "name": "stdout",
          "text": [
            "\n",
            "The points at which he suspects of being wrong are: []\n",
            "\n",
            "The points at which he is convinced that he might be wrong are: [1, 2, 3, 4, 5, 6, 7, 8, 9, 10, 11, 12, 13, 14, 15, 16, 17, 18, 19, 20, 21, 22, 23, 24, 25, 26, 27, 28, 29, 30, 31, 32, 33, 34, 35, 36, 37, 38, 39, 40, 41, 42, 43, 44, 45, 46, 47, 48, 49, 50, 51, 52, 53, 54, 55, 56, 57, 58, 59, 60, 61, 62, 63, 64, 65, 66, 67, 68, 69, 70, 71, 72, 73, 74, 75, 76, 77, 78, 79, 80, 81, 82, 83, 84, 85, 86, 87, 88, 89, 90, 91, 92, 93, 94, 95, 96, 97, 98, 99, 100]\n",
            "\n",
            "The probability of getting a 'Head' from the fourth coin is: 0.14\n",
            "\n"
          ]
        },
        {
          "output_type": "execute_result",
          "data": {
            "text/plain": [
              "Text(0, 0.5, 'Experimental probability (of Head)')"
            ]
          },
          "metadata": {},
          "execution_count": 37
        },
        {
          "output_type": "display_data",
          "data": {
            "text/plain": [
              "<Figure size 432x288 with 1 Axes>"
            ],
            "image/png": "[encoded data removed]"
          },
          "metadata": {
            "needs_background": "light"
          }
        }
      ]
    },
    {
      "cell_type": "markdown",
      "source": [
        "**2(a)** : At any point, if the probability (of a Head) falls below 0.56 but is still larger than 0.40, he may begin to doubt his initial assumption.\n",
        "\n",
        "**2(b)** : At any point, if the probability (of a Head) falls below 0.40, he may be convinced that his initial assumption was wrong.\n",
        "\n",
        "**2(c)** : We apply the same boundary conditions as above for the (c) part also.\n",
        "\n",
        "**2(d)** : At every point, we can check the difference between the number of tails and number of heads that have come up till that point. If it exceeds a particular fraction of the total number of tosses, we can say that the coin is not favourable to Head. This is also equivalent to setting up a limit as to how low the probability of a Head can be before Kohli begins to doubt his initial assumption."
      ],
      "metadata": {
        "id": "M4Wm6LtR7Lc_"
      }
    },
    {
      "cell_type": "markdown",
      "source": [
        "**Problem 3**"
      ],
      "metadata": {
        "id": "gWJl6zaB8uKd"
      }
    },
    {
      "cell_type": "code",
      "execution_count": null,
      "metadata": {
        "colab": {
          "base_uri": "https://localhost:8080/",
          "height": 522
        },
        "id": "5LDTkIpAkSXw",
        "outputId": "1e5c2dc9-731c-430d-995c-9d97c827ff94"
      },
      "outputs": [
        {
          "output_type": "stream",
          "name": "stdout",
          "text": [
            "For 3(a):\n",
            "Please enter your height (in cm): 180\n",
            "\n",
            "Your expected weight is 57.31094492839616 kg\n",
            "\n",
            "Your actual weight\u001b[3m might \u001b[0mlie between 65.2688418199921 kg and 49.75666664554784 kg as per statistical data available to us.\n",
            "\n",
            "For 3(b):\n",
            "The average of the errors in weight for a height of 155 cm is given by: -0.6580092608288851kg and the standard deviation in the errors is given by: 3.925858798008328 kg\n",
            "\n",
            "The average of the errors in weight for a height of 165 cm is given by: -1.3847743951587654 kg and the standard deviation in the errors is given by: 3.758979908854162 kg\n",
            "\n",
            "The average of the errors in weight for a height of 175 cm is given by: 0.07534165346747614 kg and the standard deviation in the errors is given by: 4.351940165945892 kg\n",
            "\n"
          ]
        },
        {
          "output_type": "display_data",
          "data": {
            "text/plain": [
              "<Figure size 432x288 with 1 Axes>"
            ],
            "image/png": "[encoded data removed]"
          },
          "metadata": {
            "needs_background": "light"
          }
        }
      ],
      "source": [
        "import matplotlib.pyplot as plt\n",
        "import numpy as np\n",
        "import math\n",
        "\n",
        "heights = [161.8917578714209, 175.20557024887373, 164.2676553766112, 178.7222340341774,\n",
        "178.00073820784604, 173.2772419681515, 160.59676770218624, 192.65051786762572, \n",
        "165.16827896723976, 186.83322519192234, 158.3181312404598, 152.40314131522246, \n",
        "176.96604318719778, 174.1476319971853, 165.64381551861507, 178.33112793512723, \n",
        "167.63588343343207, 158.2518544667988, 162.39631147040325,164.93377167203346, \n",
        "185.23966651457155, 174.00884801974885, 178.29163623554024,154.42607294132182,\n",
        "152.02373388539078, 171.35451719883235, 172.46880217666438, 187.8259234866104,\n",
        "165.8348672259168, 154.21715210274448, 183.99341334642781, 192.96899615398104,\n",
        "193.24767230032984, 152.34085565439042, 177.86128609011809, 167.1786624519332,\n",
        "183.32867104686477, 189.32630987297262, 171.8239506780645, 162.7533361998475,\n",
        "181.8937717199068, 151.81355565372678, 175.70637064056112, 179.82951362312016,\n",
        "179.39069884595247, 177.08397660941904, 182.1282175100166,175.2020315276609,\n",
        "166.4430523185654, 157.22110851705304]\n",
        "\n",
        "weights = [50.06513915417443, 57.08997118968728, 57.34038829783626, 56.88540143502565,\n",
        "53.478696908960934, 56.768169670936345, 50.98936280545692, 62.35249986686582,\n",
        "51.88319410967615, 52.674703814115304, 52.69023951205429, 51.27488019363186,\n",
        "56.878634760999624, 60.283919884274155, 46.438146326369136, 57.504487839354574,\n",
        "45.744829489560345, 51.17557752289022, 57.227062735277805, 53.41123363598972,\n",
        "53.7655228010482, 48.77457857823918, 50.57295828987031, 49.109738459110076,\n",
        "41.84216598976299, 55.871446827859636, 52.03636592100854, 63.228012473952845,\n",
        "52.497642699508894, 43.42309786298475, 58.2807014841803, 69.4769468120694,\n",
        "61.140432492527324, 51.89160705026108, 59.88218450922603, 55.475816112146205,\n",
        "56.65606435614058, 62.99451248585423, 49.64889204896306, 54.28403891707874,\n",
        "58.38375250582365, 46.20229138646405, 54.28590662636416, 54.51621196857059,\n",
        "56.063543839297886, 63.33081820162695, 57.229870486518834, 58.40650863480111,\n",
        "56.285176888103265, 55.73018000987019]\n",
        "\n",
        "N = len(heights) \n",
        "\n",
        "# p = sum(map(lambda i: i * i, heights))\n",
        "# q = sum(map(lambda i: i * i, weights))\n",
        "# Sum = [height * weight for (height,weight) in zip(heights , weights)]\n",
        "# r = sum(map(lambda i: i * i, Sum))\n",
        "\n",
        "s = sum(weights)\n",
        "\n",
        "p = 0\n",
        "for i in range (0 , N):\n",
        "  p += heights[i]**2\n",
        "\n",
        "q = sum(heights)\n",
        "\n",
        "r = 0\n",
        "for i in range (0 , N):\n",
        "  r += heights[i] * weights[i]\n",
        "\n",
        "t = 0\n",
        "for i in range (0 , N):\n",
        "  t += weights[i]**2\n",
        "\n",
        "a = (N * r - q * s)/(N * p - q**2)\n",
        "\n",
        "b = (p * s - q * r)/(N * p - q**2)\n",
        "\n",
        "x_values = heights\n",
        "y_values = weights\n",
        "\n",
        "plt.scatter(x_values , y_values , s=20)\n",
        "\n",
        "x = np.linspace(140,200,80)\n",
        "y = a * x + b\n",
        "plt.xlabel('Height (in cm)')\n",
        "plt.ylabel('Weight (in kg)')\n",
        "plt.plot(x, y, '-g', label='y=ax+b')\n",
        "\n",
        "print(\"For 3(a):\")\n",
        "height = input(\"Please enter your height (in cm): \")\n",
        "expected_weight = a * float(height) + b\n",
        "print(\"\\nYour expected weight is \" + str(expected_weight) + \" kg\")\n",
        "\n",
        "weight_variations = []\n",
        "\n",
        "for i in range (0 , N):\n",
        "  weight_variations.append(weights[i] - (a * heights[i] + b))\n",
        "  max_var = max(weight_variations)\n",
        "  min_var = min(weight_variations)\n",
        "\n",
        "print(\"\\nYour actual weight\\x1B[3m might \\x1B[0mlie between \" + str(expected_weight + max_var) + \n",
        "      \" kg and \" + str(expected_weight + min_var) + \" kg as per statistical data available to us.\") \n",
        "\n",
        "h_1=155\n",
        "weights_1 = [50.84083481424745, 50.014150611241, 47.434433994546275, 48.18509369914934,\n",
        "49.47940437427491, 51.46395679542809, 50.92745554133917, 50.05313719206625,\n",
        "44.32619446516681, 58.43082902641991, 51.78016307917405, 44.02198762936742,\n",
        "50.72446115642888, 50.705517805027014, 57.59462421345118, 54.470110375852684,\n",
        "53.22931789122948, 51.774125788427334, 54.474225400616, 48.6041391956155,\n",
        "45.39272640839777, 44.650940250705666, 42.69887479467695, 47.003806810494126,\n",
        "48.146952021872984]\n",
        "\n",
        "h_2=165\n",
        "weights_2 = [56.09178233874335, 53.45028077511345, 53.921575413701156, 48.85934258973829,\n",
        "56.95307675637719, 58.34536050529028, 58.38396662842817, 59.53843135500536, \n",
        "63.86284924117021, 50.37873251772672, 53.542546379774144, 55.65272988547241,\n",
        "56.19834658523187, 49.931028628110056, 49.067210771486366, 57.081250056851644,\n",
        "52.941790056077416, 50.11083820970033, 52.196245895572396, 52.86016951388828,\n",
        "52.997389807842836, 50.77474626914866, 47.91793610117185, 51.317062516525056,\n",
        "53.34045945347973]\n",
        "\n",
        "h_3=175\n",
        "weights_3 = [58.7729713699485, 57.52174253372618, 46.63896463839615, 60.08699337124898,\n",
        "54.97048946487911, 50.89015721919731, 51.16430051196914, 60.44417409273054,\n",
        "47.330206543798724, 58.62280875417217, 51.94075563649851, 53.85545926849789,\n",
        "55.19225332108357, 57.316954222269885, 61.96906592544718, 64.45515173613902,\n",
        "58.145794819284355, 52.00153353928704, 53.687784624881914, 54.467373628898336,\n",
        "54.83437188336155, 58.39119923096617, 52.72810010849628, 53.5992234950328,\n",
        "61.30297365392382]\n",
        "\n",
        "n = len(weights_1)\n",
        "\n",
        "w_1_expected = a * h_1 + b\n",
        "w_2_expected = a * h_2 + b\n",
        "w_3_expected = a * h_3 + b\n",
        "\n",
        "x = 0\n",
        "for i in range (0 , n):\n",
        "  x += weights_1[i]**2\n",
        "\n",
        "y = 0\n",
        "for i in range (0 , n):\n",
        "  y += weights_2[i]**2\n",
        "\n",
        "z = 0\n",
        "for i in range (0 , n):\n",
        "  z += weights_3[i]**2\n",
        "\n",
        "mean_error_1 = ((n * w_1_expected) - sum(weights_1))/n\n",
        "mean_error_2 = ((n * w_2_expected) - sum(weights_2))/n\n",
        "mean_error_3 = ((n * w_3_expected) - sum(weights_3))/n\n",
        "\n",
        "std_deviation_1 = math.sqrt(x/n - (sum(weights_1)/n)**2)\n",
        "std_deviation_2 = math.sqrt(y/n - (sum(weights_2)/n)**2)\n",
        "std_deviation_3 = math.sqrt(z/n - (sum(weights_3)/n)**2)\n",
        "\n",
        "print(\"\\nFor 3(b):\")\n",
        "print(\"The average of the errors in weight for a height of \" + str(h_1) + \" cm is given by: \"\n",
        "+ str(mean_error_1) + \"kg and the standard deviation in the errors is given by: \" +\n",
        "str(std_deviation_1) + \" kg\")\n",
        "\n",
        "print(\"\\nThe average of the errors in weight for a height of \" + str(h_2) + \" cm is given by: \"\n",
        "+ str(mean_error_2) + \" kg and the standard deviation in the errors is given by: \" +\n",
        "str(std_deviation_2) + \" kg\")\n",
        "\n",
        "print(\"\\nThe average of the errors in weight for a height of \" + str(h_3) + \" cm is given by: \"\n",
        "+ str(mean_error_3) + \" kg and the standard deviation in the errors is given by: \" +\n",
        "str(std_deviation_3) + \" kg\\n\")"
      ]
    },
    {
      "cell_type": "markdown",
      "source": [
        "**3(a)** : Based on the linear graph, we can find the maximum and minimum possible variations in the weight of students from the theoretical weight. Given this, we can say that the difference between true weight and actual weight *might* lie\n",
        "from -7.55427 kg to 7.95789 kg. Note that this is purely a statistical value and *need not* hold true at all in many circumstances. \n",
        "\n",
        "**3(b)** : We would want the average of the errors $\\frac{\\displaystyle\\sum_{i=1}^{N}(y_{i} - \\hat{y})}{N}$ to be equal to zero. If so happens, then we can say that over a large number of observations recorded (of height), the average weight would tend to be nearly equal to the expected weight from the linear model. <br>\n",
        "We would want the standard deviation to be at its minimum possible value. The standard deviation in this case will be given by (after taking average error to be zero) - $\\sqrt{\\frac{\\displaystyle\\sum_{i=1}^{N} (y_{i}-x_{i})^2}{N} - b^2}$.\n"
      ],
      "metadata": {
        "id": "GILPLGkRPp44"
      }
    }
  ]
}